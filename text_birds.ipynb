{
 "cells": [
  {
   "attachments": {},
   "cell_type": "markdown",
   "metadata": {},
   "source": [
    "### Imports"
   ]
  },
  {
   "cell_type": "code",
   "execution_count": 13,
   "metadata": {},
   "outputs": [],
   "source": [
    "import math\n",
    "import pandas as pd\n",
    "\n",
    "import torch\n",
    "import torch.nn as nn\n",
    "from torch.utils.data import DataLoader, Dataset\n",
    "\n",
    "from tqdm import tqdm\n",
    "\n",
    "import re\n",
    "from tokenizers import Tokenizer\n",
    "from tokenizers.models import BPE\n",
    "from tokenizers.trainers import BpeTrainer\n",
    "from tokenizers.pre_tokenizers import Whitespace"
   ]
  },
  {
   "attachments": {},
   "cell_type": "markdown",
   "metadata": {},
   "source": [
    "### Data Loading"
   ]
  },
  {
   "attachments": {},
   "cell_type": "markdown",
   "metadata": {},
   "source": [
    "#### Combines all text descriptions into one csv"
   ]
  },
  {
   "cell_type": "code",
   "execution_count": 14,
   "metadata": {},
   "outputs": [],
   "source": [
    "# import csv\n",
    "# import os\n",
    "\n",
    "# directory = \"./text_c10/\"\n",
    "\n",
    "# header = ['Filename', 'ID', 'Class', 'Content']\n",
    "# textfile = open('descriptions.txt', 'w')\n",
    "\n",
    "# # Open the CSV file for writing\n",
    "# with open('image_text_descriptions.csv', 'w', newline='') as csvfile:\n",
    "#     # Initialize the CSV writer and write the header row\n",
    "#     writer = csv.writer(csvfile)\n",
    "#     writer.writerow(header)\n",
    "\n",
    "#     folders = os.listdir(directory)\n",
    "#     folders.sort()\n",
    "\n",
    "#     class_val = 0\n",
    "#     id = 0\n",
    "#     for folder in folders:\n",
    "#         files = os.listdir(directory + folder)\n",
    "#         files.sort()\n",
    "#         class_val += 1\n",
    "    \n",
    "#         # Loop through each file in the directory\n",
    "        \n",
    "#         for filename in files:\n",
    "#             id += 1\n",
    "#             # Check if the file is a text file\n",
    "#             if filename.endswith('.txt'):\n",
    "#                 # Open the text file and read its contents\n",
    "#                 with open(directory + folder + \"/\" + filename, 'r') as file:\n",
    "#                     content = file.read()\n",
    "                \n",
    "#                 # Write the filename and content to a new row in the CSV file\n",
    "#                 writer.writerow([filename, id, class_val, content])\n",
    "#                 textfile.write(content)"
   ]
  },
  {
   "cell_type": "code",
   "execution_count": 15,
   "metadata": {},
   "outputs": [],
   "source": [
    "image_text_labels = pd.read_csv(\"image_text_descriptions.csv\")\n",
    "train_test_split = pd.read_csv(\"train_test_split.txt\", header=None, sep=\" \")\n",
    "\n",
    "# Splits train and test data\n",
    "text_df = pd.DataFrame(image_text_labels)\n",
    "tt_df = pd.DataFrame(train_test_split)\n",
    "train_df = tt_df[tt_df[1] == 1]\n",
    "test_df = tt_df[tt_df[1] == 0]\n",
    "text_train_df = text_df[text_df[\"ID\"].isin(train_df[0])]\n",
    "text_test_df = text_df[text_df[\"ID\"].isin(test_df[0])]"
   ]
  },
  {
   "cell_type": "code",
   "execution_count": 16,
   "metadata": {},
   "outputs": [],
   "source": [
    "def preprocess(txt):\n",
    "    return re.sub(r' +', ' [SPACE] ', txt).replace('\\n', ' [NEWLINE] ')"
   ]
  },
  {
   "cell_type": "code",
   "execution_count": 17,
   "metadata": {},
   "outputs": [
    {
     "name": "stdout",
     "output_type": "stream",
     "text": [
      "\n",
      "\n",
      "\n"
     ]
    }
   ],
   "source": [
    "# Same as Homework 4, except vocab_size is larger \n",
    "with open('descriptions.txt', 'r', encoding='utf-8') as f:\n",
    "    text = f.read()\n",
    "\n",
    "tokenizer = Tokenizer(BPE(unk_token=\"[UNK]\"))\n",
    "trainer = BpeTrainer(special_tokens=[\"[UNK]\", \"[CLS]\", \"[SEP]\", \"[PAD]\", \"[MASK]\", \"[SPACE]\", \"[NEWLINE]\"], vocab_size=32000)\n",
    "tokenizer.pre_tokenizer = Whitespace()\n",
    "tokenizer.train_from_iterator([text], trainer=trainer)\n",
    "tokenizer.save(\"tokenizer.json\")\n",
    "VOCAB_SIZE = tokenizer.get_vocab_size()\n",
    "\n",
    "encode = lambda s: tokenizer.encode(preprocess(s)).ids\n",
    "decode = lambda l: tokenizer.decode(l, skip_special_tokens=False).replace(' ', '').replace('[SPACE]', ' ').replace('[NEWLINE]', '\\n')"
   ]
  },
  {
   "cell_type": "code",
   "execution_count": 18,
   "metadata": {},
   "outputs": [],
   "source": [
    "class TextDataSet(Dataset):\n",
    "    def __init__(self, df, tokenizer):\n",
    "        self.df = df\n",
    "        self.tokenizer = tokenizer\n",
    "        self.max_seq_length = 280\n",
    "\n",
    "    def __len__(self):\n",
    "        return len(self.df)\n",
    "    \n",
    "    def __getitem__(self, idx):\n",
    "        text = self.df.iloc[idx][\"Content\"]\n",
    "\n",
    "        # label needs to be minus 1 as nn.CrossEntropyLoss takes in 0-199\n",
    "        label = self.df.iloc[idx][\"Class\"] - 1\n",
    "\n",
    "        # padding to keep the seq_len of each encoding the same, uses [PAD] token\n",
    "        encoding = tokenizer.encode(text).ids\n",
    "        pad = tokenizer.token_to_id(\"[PAD]\")\n",
    "        encoding += [pad] * (self.max_seq_length - len(encoding))\n",
    "        encoding = torch.tensor(encoding)\n",
    "        return encoding, label"
   ]
  },
  {
   "cell_type": "code",
   "execution_count": 19,
   "metadata": {},
   "outputs": [],
   "source": [
    "trn_dataset = TextDataSet(text_train_df, tokenizer)\n",
    "tst_dataset = TextDataSet(text_test_df, tokenizer)\n",
    "\n",
    "trn_loader = DataLoader(trn_dataset, batch_size=32, shuffle=True)\n",
    "tst_loader = DataLoader(tst_dataset, batch_size=32, shuffle=False)"
   ]
  },
  {
   "attachments": {},
   "cell_type": "markdown",
   "metadata": {},
   "source": [
    "### Model"
   ]
  },
  {
   "cell_type": "code",
   "execution_count": 20,
   "metadata": {},
   "outputs": [],
   "source": [
    "# Standard Positional Encoding uses sin and cos for pos_encode\n",
    "class PositionalEncoding(nn.Module):\n",
    "    def __init__(self, d_model, dropout=0.1, max_len=5000):\n",
    "        super(PositionalEncoding, self).__init__()\n",
    "        self.dropout = nn.Dropout(p=dropout)\n",
    "        pe = torch.zeros(max_len, d_model)\n",
    "        position = torch.arange(0, max_len, dtype=torch.float).unsqueeze(1)\n",
    "        div_term = torch.exp(torch.arange(0, d_model, 2).float() * (-math.log(10000.0) / d_model))\n",
    "        pe[:, 0::2] = torch.sin(position * div_term)\n",
    "        pe[:, 1::2] = torch.cos(position * div_term)\n",
    "        pe = pe.unsqueeze(0).transpose(0, 1)\n",
    "        self.register_buffer('pe', pe)\n",
    "\n",
    "    def forward(self, x):\n",
    "        x = x + self.pe[:x.size(0), :]\n",
    "        return self.dropout(x)"
   ]
  },
  {
   "cell_type": "code",
   "execution_count": 21,
   "metadata": {},
   "outputs": [],
   "source": [
    "class TextModel(nn.Module):\n",
    "    def __init__(self, vocab_size, num_classes, embed_dim, hidden_dim, n_layers, num_heads, dropout):\n",
    "        super(TextModel, self).__init__()\n",
    "        self.embedding = nn.Embedding(vocab_size, embed_dim)\n",
    "        self.pos_encoder = PositionalEncoding(embed_dim, dropout)\n",
    "        # Using Transformer architecture provided by PyTorch\n",
    "        encoder_layer = nn.TransformerEncoderLayer(embed_dim, num_heads, hidden_dim, dropout)\n",
    "        self.encoder = nn.TransformerEncoder(encoder_layer, n_layers)\n",
    "        self.fc = nn.Linear(embed_dim, num_classes)\n",
    "\n",
    "    def forward(self, x):\n",
    "        # x size is (batch_size, seq_len, embed_dim)\n",
    "        x = self.embedding(x)\n",
    "        x = self.pos_encoder(x)\n",
    "        # Transformer Encoder takes (seq_len, batch_size, embed_dim)\n",
    "        x = x.permute(1, 0, 2)\n",
    "        x = self.encoder(x)\n",
    "        x = x.mean(dim=0)\n",
    "        x = self.fc(x)\n",
    "        return x"
   ]
  },
  {
   "cell_type": "markdown",
   "metadata": {},
   "source": [
    "### Training"
   ]
  },
  {
   "cell_type": "code",
   "execution_count": 22,
   "metadata": {},
   "outputs": [],
   "source": [
    "NUM_CLASSES = 200\n",
    "EMB_DIM = 64\n",
    "HIDDEN_DIM = EMB_DIM * 4\n",
    "N_LAYERS = 6\n",
    "NUM_HEADS = 8\n",
    "DROPOUT = 0\n",
    "\n",
    "net = TextModel(VOCAB_SIZE, NUM_CLASSES, EMB_DIM, HIDDEN_DIM, N_LAYERS, NUM_HEADS, DROPOUT)"
   ]
  },
  {
   "cell_type": "code",
   "execution_count": 23,
   "metadata": {},
   "outputs": [],
   "source": [
    "# Training parameters\n",
    "LR = 5e-4\n",
    "NUM_EPOCHS = 25\n",
    "\n",
    "optim = torch.optim.AdamW(net.parameters(), lr=LR, weight_decay=0.01)\n",
    "loss_fn = nn.CrossEntropyLoss()"
   ]
  },
  {
   "cell_type": "code",
   "execution_count": 24,
   "metadata": {},
   "outputs": [
    {
     "name": "stderr",
     "output_type": "stream",
     "text": [
      "Epoch: 0/25, Loss: 5.371: 100%|██████████| 188/188 [01:41<00:00,  1.86it/s]\n",
      "Epoch: 1/25, Loss: 5.217: 100%|██████████| 188/188 [01:40<00:00,  1.87it/s]\n",
      "Epoch: 2/25, Loss: 4.660: 100%|██████████| 188/188 [01:39<00:00,  1.88it/s]\n",
      "Epoch: 3/25, Loss: 4.095: 100%|██████████| 188/188 [01:40<00:00,  1.88it/s]\n",
      "Epoch: 4/25, Loss: 3.701: 100%|██████████| 188/188 [01:37<00:00,  1.92it/s]\n",
      "Epoch: 5/25, Loss: 3.388: 100%|██████████| 188/188 [01:37<00:00,  1.93it/s]\n",
      "Epoch: 6/25, Loss: 3.126: 100%|██████████| 188/188 [01:36<00:00,  1.95it/s]\n",
      "Epoch: 7/25, Loss: 2.925: 100%|██████████| 188/188 [01:35<00:00,  1.97it/s]\n",
      "Epoch: 8/25, Loss: 2.733: 100%|██████████| 188/188 [01:36<00:00,  1.96it/s]\n",
      "Epoch: 9/25, Loss: 2.560: 100%|██████████| 188/188 [01:35<00:00,  1.97it/s]\n",
      "Epoch: 10/25, Loss: 2.427: 100%|██████████| 188/188 [01:35<00:00,  1.98it/s]\n",
      "Epoch: 11/25, Loss: 2.272: 100%|██████████| 188/188 [01:34<00:00,  1.98it/s]\n",
      "Epoch: 12/25, Loss: 2.115: 100%|██████████| 188/188 [01:35<00:00,  1.97it/s]\n",
      "Epoch: 13/25, Loss: 2.007: 100%|██████████| 188/188 [01:35<00:00,  1.97it/s]\n",
      "Epoch: 14/25, Loss: 1.872: 100%|██████████| 188/188 [01:35<00:00,  1.97it/s]\n",
      "Epoch: 15/25, Loss: 1.757: 100%|██████████| 188/188 [01:35<00:00,  1.97it/s]\n",
      "Epoch: 16/25, Loss: 1.656: 100%|██████████| 188/188 [01:35<00:00,  1.98it/s]\n",
      "Epoch: 17/25, Loss: 1.544: 100%|██████████| 188/188 [01:35<00:00,  1.97it/s]\n",
      "Epoch: 18/25, Loss: 1.438: 100%|██████████| 188/188 [01:35<00:00,  1.97it/s]\n",
      "Epoch: 19/25, Loss: 1.334: 100%|██████████| 188/188 [01:35<00:00,  1.97it/s]\n",
      "Epoch: 20/25, Loss: 1.246: 100%|██████████| 188/188 [01:35<00:00,  1.97it/s]\n",
      "Epoch: 21/25, Loss: 1.149: 100%|██████████| 188/188 [01:35<00:00,  1.96it/s]\n",
      "Epoch: 22/25, Loss: 1.052: 100%|██████████| 188/188 [01:35<00:00,  1.97it/s]\n",
      "Epoch: 23/25, Loss: 0.951: 100%|██████████| 188/188 [01:35<00:00,  1.97it/s]\n",
      "Epoch: 24/25, Loss: 0.847: 100%|██████████| 188/188 [01:35<00:00,  1.97it/s]\n"
     ]
    }
   ],
   "source": [
    "global_step = 0\n",
    "for epoch in range(NUM_EPOCHS):\n",
    "    t = tqdm(trn_loader, desc='Epoch: ?, Loss: ?')\n",
    "    running_loss = 0.0\n",
    "    for i, (encodings, labels) in enumerate(t):\n",
    "        net.train()\n",
    "        logits = net(encodings)\n",
    "        loss = loss_fn(logits, labels)\n",
    "        loss.backward()\n",
    "        optim.step()\n",
    "        optim.zero_grad()\n",
    "        running_loss += loss.item()\n",
    "        global_step += 1\n",
    "        t.set_description(f'Epoch: {epoch}/{NUM_EPOCHS}, Loss: {running_loss/(i+1):.3f}')"
   ]
  },
  {
   "attachments": {},
   "cell_type": "markdown",
   "metadata": {},
   "source": [
    "### Evaluation"
   ]
  },
  {
   "cell_type": "code",
   "execution_count": 31,
   "metadata": {},
   "outputs": [
    {
     "name": "stderr",
     "output_type": "stream",
     "text": [
      "100%|██████████| 182/182 [00:43<00:00,  4.14it/s]"
     ]
    },
    {
     "name": "stdout",
     "output_type": "stream",
     "text": [
      "Validation loss: 2.293\n",
      "Accuracy: 0.441\n"
     ]
    },
    {
     "name": "stderr",
     "output_type": "stream",
     "text": [
      "\n"
     ]
    }
   ],
   "source": [
    "net.eval()\n",
    "with torch.no_grad():\n",
    "    val_loss = 0.0\n",
    "    total = 0\n",
    "    correct = 0\n",
    "    for (encodings, labels) in tqdm(tst_loader):\n",
    "        logits = net(encodings)\n",
    "        loss = loss_fn(logits, labels)\n",
    "        val_loss += loss.item()\n",
    "        _, predicted = torch.max(logits.data, 1)\n",
    "        total += labels.size(0)\n",
    "        correct += (predicted == labels).sum().item()\n",
    "    print(f'Validation loss: {val_loss/len(tst_loader):.3f}')\n",
    "print(f'Accuracy: {correct/total:.3f}')"
   ]
  },
  {
   "attachments": {},
   "cell_type": "markdown",
   "metadata": {},
   "source": [
    "### Save and Load"
   ]
  },
  {
   "cell_type": "code",
   "execution_count": 26,
   "metadata": {},
   "outputs": [],
   "source": [
    "torch.save(net.state_dict(), \"text_model_3.pth\")"
   ]
  },
  {
   "cell_type": "code",
   "execution_count": 30,
   "metadata": {},
   "outputs": [
    {
     "data": {
      "text/plain": [
       "TextModel(\n",
       "  (embedding): Embedding(7740, 64)\n",
       "  (pos_encoder): PositionalEncoding(\n",
       "    (dropout): Dropout(p=0, inplace=False)\n",
       "  )\n",
       "  (encoder): TransformerEncoder(\n",
       "    (layers): ModuleList(\n",
       "      (0-5): 6 x TransformerEncoderLayer(\n",
       "        (self_attn): MultiheadAttention(\n",
       "          (out_proj): NonDynamicallyQuantizableLinear(in_features=64, out_features=64, bias=True)\n",
       "        )\n",
       "        (linear1): Linear(in_features=64, out_features=256, bias=True)\n",
       "        (dropout): Dropout(p=0, inplace=False)\n",
       "        (linear2): Linear(in_features=256, out_features=64, bias=True)\n",
       "        (norm1): LayerNorm((64,), eps=1e-05, elementwise_affine=True)\n",
       "        (norm2): LayerNorm((64,), eps=1e-05, elementwise_affine=True)\n",
       "        (dropout1): Dropout(p=0, inplace=False)\n",
       "        (dropout2): Dropout(p=0, inplace=False)\n",
       "      )\n",
       "    )\n",
       "  )\n",
       "  (fc): Linear(in_features=64, out_features=200, bias=True)\n",
       ")"
      ]
     },
     "execution_count": 30,
     "metadata": {},
     "output_type": "execute_result"
    }
   ],
   "source": [
    "# net.load_state_dict(torch.load(\"text_model_no_dropout.pth\"))\n",
    "# net.eval()"
   ]
  },
  {
   "cell_type": "code",
   "execution_count": null,
   "metadata": {},
   "outputs": [],
   "source": []
  }
 ],
 "metadata": {
  "kernelspec": {
   "display_name": "base",
   "language": "python",
   "name": "python3"
  },
  "language_info": {
   "codemirror_mode": {
    "name": "ipython",
    "version": 3
   },
   "file_extension": ".py",
   "mimetype": "text/x-python",
   "name": "python",
   "nbconvert_exporter": "python",
   "pygments_lexer": "ipython3",
   "version": "3.10.9"
  },
  "orig_nbformat": 4
 },
 "nbformat": 4,
 "nbformat_minor": 2
}
